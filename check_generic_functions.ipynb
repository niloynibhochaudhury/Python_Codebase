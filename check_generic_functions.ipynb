{
 "cells": [
  {
   "cell_type": "code",
   "execution_count": 12,
   "id": "eec86177-ce30-4fd0-8942-30c42bb6bd04",
   "metadata": {},
   "outputs": [],
   "source": [
    "import ipynb"
   ]
  },
  {
   "cell_type": "markdown",
   "id": "33e2510b-e8d8-4db0-97bb-58c1c6494709",
   "metadata": {},
   "source": [
    "### import a function from another .ipynb file\n",
    "https://stackoverflow.com/questions/44116194/import-a-function-from-another-ipynb-file"
   ]
  },
  {
   "cell_type": "code",
   "execution_count": 14,
   "id": "b75cda95-0ae5-4f3d-9a88-b26e033b00fe",
   "metadata": {},
   "outputs": [],
   "source": [
    "from ipynb.fs.full.generic_functions import factorial"
   ]
  },
  {
   "cell_type": "code",
   "execution_count": 31,
   "id": "7dc15d78-8fc3-43b1-a88e-24b923a425e3",
   "metadata": {},
   "outputs": [],
   "source": [
    "from icecream import ic"
   ]
  },
  {
   "cell_type": "code",
   "execution_count": 28,
   "id": "c3f402c6-6445-46a2-972b-73a184578111",
   "metadata": {},
   "outputs": [],
   "source": [
    "fac = factorial(10)"
   ]
  },
  {
   "cell_type": "code",
   "execution_count": 19,
   "id": "b535972a-1672-4d65-a254-64b5c86edce2",
   "metadata": {},
   "outputs": [
    {
     "name": "stdout",
     "output_type": "stream",
     "text": [
      "3628800\n"
     ]
    }
   ],
   "source": [
    "print(f)"
   ]
  },
  {
   "cell_type": "markdown",
   "id": "8e71f7fe-f5f0-44dd-8c25-11189ccf8e49",
   "metadata": {},
   "source": [
    "### Debug without print - use icecream\n",
    "https://towardsdatascience.com/stop-using-print-to-debug-in-python-use-icecream-instead-79e17b963fcc"
   ]
  },
  {
   "cell_type": "code",
   "execution_count": 33,
   "id": "ca5ec825-7aca-42e3-b12e-4505c34fe2da",
   "metadata": {},
   "outputs": [
    {
     "name": "stderr",
     "output_type": "stream",
     "text": [
      "ic| fac: 3628800\n"
     ]
    },
    {
     "data": {
      "text/plain": [
       "3628800"
      ]
     },
     "execution_count": 33,
     "metadata": {},
     "output_type": "execute_result"
    }
   ],
   "source": [
    "ic(fac)"
   ]
  },
  {
   "cell_type": "code",
   "execution_count": 43,
   "id": "550ed9e9-e9cc-4fe9-9a0b-de3063054507",
   "metadata": {},
   "outputs": [
    {
     "data": {
      "text/html": [
       "<!DOCTYPE html>\n",
       "<html>\n",
       "  <head>\n",
       "      <script src=\"https://cdn.jsdelivr.net/pyodide/v0.18.1/full/pyodide.js\"></script>\n",
       "  </head>\n",
       "  <body>\n",
       "    Pyodide test page <br>\n",
       "    Open your browser console to see Pyodide output\n",
       "    <script type=\"text/javascript\">\n",
       "      async function main(){\n",
       "        let pyodide = await loadPyodide({\n",
       "          indexURL : \"https://cdn.jsdelivr.net/pyodide/v0.18.1/full/\"\n",
       "        });\n",
       "        console.log(pyodide.runPython(`\n",
       "                import sys\n",
       "                sys.version\n",
       "        `));\n",
       "        console.log(pyodide.runPython(\"print(1 + 2)\"));\n",
       "        console.log(pyodide.runPython(`\n",
       "              import numpy\n",
       "              x=numpy.ones((3, 4))\n",
       "        `));\n",
       "      }\n",
       "      main();\n",
       "    </script>\n",
       "  </body>\n",
       "</html>"
      ],
      "text/plain": [
       "<IPython.core.display.HTML object>"
      ]
     },
     "execution_count": 43,
     "metadata": {},
     "output_type": "execute_result"
    }
   ],
   "source": [
    "from IPython.core.display import HTML\n",
    "# HTML('<a href=\"/sample.html\">link</a>')\n",
    "HTML('./sample.html')"
   ]
  },
  {
   "cell_type": "code",
   "execution_count": 40,
   "id": "387159ed-07a6-4c40-99e0-9f4e5620419e",
   "metadata": {},
   "outputs": [
    {
     "data": {
      "text/html": [
       "\n",
       "        <iframe\n",
       "            width=\"900\"\n",
       "            height=\"100\"\n",
       "            src=\"./sample.html\"\n",
       "            frameborder=\"0\"\n",
       "            allowfullscreen\n",
       "        ></iframe>\n",
       "        "
      ],
      "text/plain": [
       "<IPython.lib.display.IFrame at 0x1d4a8c79220>"
      ]
     },
     "execution_count": 40,
     "metadata": {},
     "output_type": "execute_result"
    }
   ],
   "source": [
    "from IPython.display import IFrame\n",
    "IFrame(src='./sample.html', width=900, height=100)"
   ]
  },
  {
   "cell_type": "markdown",
   "id": "58b19413-7f19-4241-b729-16fab92df5cc",
   "metadata": {},
   "source": [
    "### Share data between NBs\n",
    "https://stackoverflow.com/questions/31621414/share-data-between-ipython-notebooks"
   ]
  },
  {
   "cell_type": "code",
   "execution_count": null,
   "id": "b03b73de-bef8-4e66-a0c2-ac6bc89063b9",
   "metadata": {},
   "outputs": [],
   "source": []
  }
 ],
 "metadata": {
  "kernelspec": {
   "display_name": "Python 3 (ipykernel)",
   "language": "python",
   "name": "python3"
  },
  "language_info": {
   "codemirror_mode": {
    "name": "ipython",
    "version": 3
   },
   "file_extension": ".py",
   "mimetype": "text/x-python",
   "name": "python",
   "nbconvert_exporter": "python",
   "pygments_lexer": "ipython3",
   "version": "3.8.5"
  }
 },
 "nbformat": 4,
 "nbformat_minor": 5
}
