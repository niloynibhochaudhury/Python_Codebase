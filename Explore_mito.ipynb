{
 "cells": [
  {
   "cell_type": "code",
   "execution_count": 1,
   "id": "2d298374-6f3c-4066-b3d5-7dcf0b146ed8",
   "metadata": {},
   "outputs": [],
   "source": [
    "import mitosheet"
   ]
  },
  {
   "cell_type": "code",
   "execution_count": 3,
   "id": "75f005d4-ae15-4479-a1be-50b77eece719",
   "metadata": {},
   "outputs": [
    {
     "data": {
      "application/vnd.jupyter.widget-view+json": {
       "model_id": "94d0b1a616ca403a8cde8d0c9bbfea72",
       "version_major": 2,
       "version_minor": 0
      },
      "text/plain": [
       "MitoWidget(analysis_data_json='{\"analysisName\": \"UUID-6e73932d-c492-44ab-93d7-7726d85baab5\", \"code\": {\"imports…"
      ]
     },
     "metadata": {},
     "output_type": "display_data"
    }
   ],
   "source": [
    "mitosheet.sheet()"
   ]
  },
  {
   "cell_type": "code",
   "execution_count": null,
   "id": "33fd90c6-f01b-44ff-aff9-42ae5078a8c6",
   "metadata": {},
   "outputs": [],
   "source": [
    "from mitosheet import *; register_analysis('UUID-6e73932d-c492-44ab-93d7-7726d85baab5')\n",
    "\n",
    "# Imported all_games.csv\n",
    "import pandas as pd\n",
    "all_games_csv = pd.read_csv(r'all_games.csv')\n",
    "\n",
    "# Changed release_date from object to datetime\n",
    "import pandas as pd\n",
    "all_games_csv['release_date'] = pd.to_datetime(all_games_csv['release_date'], infer_datetime_format=True, errors='coerce')\n",
    "\n",
    "# Changed user_review from object to float\n",
    "all_games_csv['user_review'] = to_number_series(all_games_csv['user_review'])\n"
   ]
  }
 ],
 "metadata": {
  "kernelspec": {
   "display_name": "Python 3 (ipykernel)",
   "language": "python",
   "name": "python3"
  },
  "language_info": {
   "codemirror_mode": {
    "name": "ipython",
    "version": 3
   },
   "file_extension": ".py",
   "mimetype": "text/x-python",
   "name": "python",
   "nbconvert_exporter": "python",
   "pygments_lexer": "ipython3",
   "version": "3.8.5"
  }
 },
 "nbformat": 4,
 "nbformat_minor": 5
}
