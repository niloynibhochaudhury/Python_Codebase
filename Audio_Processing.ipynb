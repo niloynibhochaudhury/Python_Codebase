{
 "cells": [
  {
   "cell_type": "markdown",
   "metadata": {},
   "source": [
    "#### Recording Audio"
   ]
  },
  {
   "cell_type": "code",
   "execution_count": 13,
   "metadata": {},
   "outputs": [
    {
     "name": "stdout",
     "output_type": "stream",
     "text": [
      "analytics-python==1.4.0\n",
      "anyio==3.4.0\n",
      "argon2-cffi @ file:///C:/ci/argon2-cffi_1613037959010/work\n",
      "async-generator @ file:///home/ktietz/src/ci/async_generator_1611927993394/work\n",
      "attrs @ file:///tmp/build/80754af9/attrs_1620827162558/work\n",
      "Babel==2.9.1\n",
      "backcall @ file:///home/ktietz/src/ci/backcall_1611930011877/work\n",
      "backoff==1.10.0\n",
      "bleach @ file:///tmp/build/80754af9/bleach_1628110601003/work\n",
      "certifi==2021.10.8\n",
      "cffi @ file:///C:/ci/cffi_1625831749120/work\n",
      "chardet==4.0.0\n",
      "charset-normalizer==2.0.9\n",
      "colorama @ file:///tmp/build/80754af9/colorama_1607707115595/work\n",
      "debugpy @ file:///C:/ci/debugpy_1629222854708/work\n",
      "decorator @ file:///tmp/build/80754af9/decorator_1621259047763/work\n",
      "defusedxml @ file:///tmp/build/80754af9/defusedxml_1615228127516/work\n",
      "entrypoints==0.3\n",
      "et-xmlfile==1.1.0\n",
      "idna==3.3\n",
      "importlib-metadata @ file:///C:/ci/importlib-metadata_1631916848487/work\n",
      "ipykernel @ file:///C:/ci/ipykernel_1629995240690/work/dist/ipykernel-6.2.0-py3-none-any.whl\n",
      "ipython @ file:///C:/ci/ipython_1628244008373/work\n",
      "ipython-genutils @ file:///tmp/build/80754af9/ipython_genutils_1606773439826/work\n",
      "ipywidgets==7.6.5\n",
      "jedi @ file:///C:/ci/jedi_1611315808330/work\n",
      "Jinja2 @ file:///tmp/build/80754af9/jinja2_1624781299557/work\n",
      "json5==0.9.6\n",
      "jsonschema @ file:///Users/ktietz/demo/mc3/conda-bld/jsonschema_1630511932244/work\n",
      "jupyter-client @ file:///tmp/build/80754af9/jupyter_client_1630690655192/work\n",
      "jupyter-core @ file:///C:/ci/jupyter_core_1612213356021/work\n",
      "jupyter-server==1.13.1\n",
      "jupyterlab==3.2.5\n",
      "jupyterlab-pygments @ file:///tmp/build/80754af9/jupyterlab_pygments_1601490720602/work\n",
      "jupyterlab-server==2.8.2\n",
      "jupyterlab-widgets==1.0.0\n",
      "jupytext @ file:///home/conda/feedstock_root/build_artifacts/jupytext_1638631965909/work\n",
      "markdown-it-py @ file:///home/conda/feedstock_root/build_artifacts/markdown-it-py_1620659057741/work\n",
      "MarkupSafe @ file:///C:/ci/markupsafe_1621528314575/work\n",
      "matplotlib-inline @ file:///tmp/build/80754af9/matplotlib-inline_1628242447089/work\n",
      "mdit-py-plugins==0.3.0\n",
      "mistune==0.8.4\n",
      "mito==0.1.0.dev0\n",
      "mitoinstaller==0.0.92\n",
      "mitosheet3==0.3.153\n",
      "mkl-fft==1.2.0\n",
      "mkl-random==1.1.1\n",
      "mkl-service==2.3.0\n",
      "monotonic==1.6\n",
      "nbclassic==0.3.4\n",
      "nbclient @ file:///tmp/build/80754af9/nbclient_1614364831625/work\n",
      "nbconvert @ file:///C:/ci/nbconvert_1624479163777/work\n",
      "nbformat @ file:///tmp/build/80754af9/nbformat_1617383369282/work\n",
      "nest-asyncio @ file:///tmp/build/80754af9/nest-asyncio_1613680548246/work\n",
      "notebook @ file:///C:/ci/notebook_1629205926310/work\n",
      "numpy @ file:///C:/ci/numpy_and_numpy_base_1603466732592/work\n",
      "openpyxl==3.0.9\n",
      "packaging @ file:///tmp/build/80754af9/packaging_1625611678980/work\n",
      "pandas @ file:///C:/ci/pandas_1609008050392/work\n",
      "pandocfilters @ file:///C:/ci/pandocfilters_1605102497129/work\n",
      "parso @ file:///tmp/build/80754af9/parso_1617223946239/work\n",
      "pickleshare @ file:///tmp/build/80754af9/pickleshare_1606932040724/work\n",
      "plotly==5.3.0\n",
      "prometheus-client @ file:///tmp/build/80754af9/prometheus_client_1623189609245/work\n",
      "prompt-toolkit @ file:///Users/ktietz/demo/mc3/conda-bld/prompt-toolkit_1629146841569/work\n",
      "pycparser @ file:///tmp/build/80754af9/pycparser_1594388511720/work\n",
      "Pygments @ file:///tmp/build/80754af9/pygments_1629234116488/work\n",
      "pyparsing @ file:///home/linux1/recipes/ci/pyparsing_1610983426697/work\n",
      "pyrsistent @ file:///C:/ci/pyrsistent_1600141795814/work\n",
      "python-dateutil==2.8.1\n",
      "pytz @ file:///tmp/build/80754af9/pytz_1608922264688/work\n",
      "pywin32==228\n",
      "pywinpty==0.5.7\n",
      "PyYAML @ file:///D:/bld/pyyaml_1636139895442/work\n",
      "pyzmq @ file:///C:/ci/pyzmq_1628276144921/work\n",
      "requests==2.26.0\n",
      "scipy==1.6.0\n",
      "Send2Trash @ file:///tmp/build/80754af9/send2trash_1607525499227/work\n",
      "six @ file:///C:/ci/six_1605187374963/work\n",
      "sniffio==1.2.0\n",
      "sounddevice==0.4.3\n",
      "tenacity==8.0.1\n",
      "termcolor==1.1.0\n",
      "terminado==0.9.4\n",
      "testpath @ file:///tmp/build/80754af9/testpath_1624638946665/work\n",
      "toml @ file:///home/conda/feedstock_root/build_artifacts/toml_1604308577558/work\n",
      "tornado @ file:///C:/ci/tornado_1606942392901/work\n",
      "traitlets @ file:///home/ktietz/src/ci/traitlets_1611929699868/work\n",
      "typing-extensions @ file:///home/conda/feedstock_root/build_artifacts/typing_extensions_1638334978229/work\n",
      "urllib3==1.26.7\n",
      "wcwidth @ file:///Users/ktietz/demo/mc3/conda-bld/wcwidth_1629357192024/work\n",
      "webencodings==0.5.1\n",
      "websocket-client==1.2.3\n",
      "widgetsnbextension==3.5.2\n",
      "wincertstore==0.2\n",
      "zipp @ file:///tmp/build/80754af9/zipp_1625570634446/work\n"
     ]
    }
   ],
   "source": [
    "!pip freeze"
   ]
  },
  {
   "cell_type": "code",
   "execution_count": 3,
   "metadata": {},
   "outputs": [
    {
     "name": "stdout",
     "output_type": "stream",
     "text": [
      "Collecting sounddevice\n",
      "  Downloading sounddevice-0.4.3-py3-none-win_amd64.whl (195 kB)\n",
      "Requirement already satisfied: CFFI>=1.0 in c:\\softwares\\anaconda3\\envs\\datascience\\lib\\site-packages (from sounddevice) (1.14.6)\n",
      "Requirement already satisfied: pycparser in c:\\softwares\\anaconda3\\envs\\datascience\\lib\\site-packages (from CFFI>=1.0->sounddevice) (2.20)\n",
      "Installing collected packages: sounddevice\n",
      "Successfully installed sounddevice-0.4.3\n"
     ]
    }
   ],
   "source": [
    "!pip install sounddevice"
   ]
  },
  {
   "cell_type": "code",
   "execution_count": 1,
   "metadata": {},
   "outputs": [],
   "source": [
    "import sounddevice as sd"
   ]
  },
  {
   "cell_type": "code",
   "execution_count": 10,
   "metadata": {},
   "outputs": [],
   "source": [
    "# fs = 48000\n",
    "fs = 44100\n",
    "sd.default.samplerate = fs\n",
    "sd.default.channels = 2"
   ]
  },
  {
   "cell_type": "code",
   "execution_count": 11,
   "metadata": {},
   "outputs": [],
   "source": [
    "duration = 10.5  # seconds\n",
    "# myrecording = sd.rec(int(duration * fs))"
   ]
  },
  {
   "cell_type": "code",
   "execution_count": 12,
   "metadata": {},
   "outputs": [],
   "source": [
    "myrecording = sd.rec(int(duration * fs))\n",
    "sd.wait()"
   ]
  },
  {
   "cell_type": "code",
   "execution_count": 13,
   "metadata": {},
   "outputs": [],
   "source": [
    "sd.play(myrecording)\n",
    "# sd.playrec(myrecording)\n",
    "# sd.wait()"
   ]
  },
  {
   "cell_type": "code",
   "execution_count": 19,
   "metadata": {},
   "outputs": [
    {
     "data": {
      "text/plain": [
       "1008000"
      ]
     },
     "execution_count": 19,
     "metadata": {},
     "output_type": "execute_result"
    }
   ],
   "source": [
    "myrecording.ndim\n",
    "myrecording.size"
   ]
  },
  {
   "cell_type": "code",
   "execution_count": 7,
   "metadata": {},
   "outputs": [
    {
     "ename": "NameError",
     "evalue": "name 'myarray' is not defined",
     "output_type": "error",
     "traceback": [
      "\u001b[1;31m---------------------------------------------------------------------------\u001b[0m",
      "\u001b[1;31mNameError\u001b[0m                                 Traceback (most recent call last)",
      "\u001b[1;32mC:\\Users\\NILOYC~1\\AppData\\Local\\Temp/ipykernel_11344/1757891280.py\u001b[0m in \u001b[0;36m<module>\u001b[1;34m\u001b[0m\n\u001b[1;32m----> 1\u001b[1;33m \u001b[0mmyrecording\u001b[0m \u001b[1;33m=\u001b[0m \u001b[0msd\u001b[0m\u001b[1;33m.\u001b[0m\u001b[0mplayrec\u001b[0m\u001b[1;33m(\u001b[0m\u001b[0mmyarray\u001b[0m\u001b[1;33m,\u001b[0m \u001b[0mfs\u001b[0m\u001b[1;33m,\u001b[0m \u001b[0mchannels\u001b[0m\u001b[1;33m=\u001b[0m\u001b[1;36m2\u001b[0m\u001b[1;33m)\u001b[0m\u001b[1;33m\u001b[0m\u001b[1;33m\u001b[0m\u001b[0m\n\u001b[0m",
      "\u001b[1;31mNameError\u001b[0m: name 'myarray' is not defined"
     ]
    }
   ],
   "source": [
    "myrecording = sd.playrec(myarray, fs, channels=2)"
   ]
  },
  {
   "cell_type": "code",
   "execution_count": 14,
   "metadata": {},
   "outputs": [
    {
     "name": "stderr",
     "output_type": "stream",
     "text": [
      "ERROR: Could not find a version that satisfies the requirement portaudio\n",
      "ERROR: No matching distribution found for portaudio\n"
     ]
    }
   ],
   "source": [
    "!pip install portaudio\n",
    "# import portaudio"
   ]
  },
  {
   "cell_type": "code",
   "execution_count": null,
   "metadata": {},
   "outputs": [],
   "source": [
    "import os\n",
    "os.getcwd()"
   ]
  },
  {
   "cell_type": "code",
   "execution_count": 19,
   "metadata": {},
   "outputs": [],
   "source": [
    "# !pip install simpleaudio\n",
    "import simpleaudio as sa"
   ]
  },
  {
   "cell_type": "code",
   "execution_count": null,
   "metadata": {},
   "outputs": [],
   "source": []
  },
  {
   "cell_type": "code",
   "execution_count": null,
   "metadata": {},
   "outputs": [],
   "source": []
  },
  {
   "cell_type": "code",
   "execution_count": null,
   "metadata": {},
   "outputs": [],
   "source": [
    "import scipy"
   ]
  },
  {
   "cell_type": "code",
   "execution_count": 7,
   "metadata": {},
   "outputs": [
    {
     "name": "stderr",
     "output_type": "stream",
     "text": [
      "Error executing Jupyter command 'kernelspec': [WinError 5] Access is denied\n"
     ]
    }
   ],
   "source": [
    "!jupyter kernelspec list"
   ]
  }
 ],
 "metadata": {
  "kernelspec": {
   "display_name": "Python 3 (ipykernel)",
   "language": "python",
   "name": "python3"
  },
  "language_info": {
   "codemirror_mode": {
    "name": "ipython",
    "version": 3
   },
   "file_extension": ".py",
   "mimetype": "text/x-python",
   "name": "python",
   "nbconvert_exporter": "python",
   "pygments_lexer": "ipython3",
   "version": "3.8.5"
  }
 },
 "nbformat": 4,
 "nbformat_minor": 4
}
