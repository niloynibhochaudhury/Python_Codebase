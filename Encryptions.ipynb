{
 "cells": [
  {
   "cell_type": "markdown",
   "metadata": {},
   "source": [
    "# Encyptions"
   ]
  },
  {
   "cell_type": "markdown",
   "metadata": {},
   "source": [
    "Details: https://www.kaggle.com/tanulsingh077/steganalysis-complete-understanding-and-model"
   ]
  },
  {
   "cell_type": "markdown",
   "metadata": {},
   "source": [
    "<li style=\"font-size:30px\">Various Techniques</li>\n",
    "<ul style=\"font-size:20px\">\n",
    "    <li>Using stegano package</li>\n",
    "    <li>Using ascii encryption</li>\n",
    "    <li>Using stepic package</li>\n",
    "</ul>"
   ]
  },
  {
   "cell_type": "markdown",
   "metadata": {},
   "source": [
    "## Image Stenography\n",
    "Today we gonna learn how to apply coding skills to cryptography, by performing image-based stenography which involve hiding secret messages in an image in way that is almost impossible to spot."
   ]
  },
  {
   "cell_type": "markdown",
   "metadata": {},
   "source": [
    "### Image stenography without Key\n",
    "Here will be hiding our hiding text within an image without any encryption key, therefore the recipient of the image is able to decrypt and get the hidden text instantly without any key\n",
    "\n",
    "Pros :\n",
    "The advantage of this is simple since you’re not going to deal with any memorized key issues\n",
    "\n",
    "Cons :\n",
    "Anyone can decrypt as long as he uses the same library you used during encryption."
   ]
  },
  {
   "cell_type": "markdown",
   "metadata": {},
   "source": [
    "#### Encrypting text into an image"
   ]
  },
  {
   "cell_type": "code",
   "execution_count": null,
   "metadata": {},
   "outputs": [],
   "source": [
    "!pip3 install pandas --user"
   ]
  },
  {
   "cell_type": "markdown",
   "metadata": {},
   "source": [
    "##### using Stegano - Note stegano.lsb works only on \"png\""
   ]
  },
  {
   "cell_type": "code",
   "execution_count": null,
   "metadata": {},
   "outputs": [],
   "source": [
    "!pip uninstall stegano"
   ]
  },
  {
   "cell_type": "code",
   "execution_count": null,
   "metadata": {},
   "outputs": [],
   "source": [
    "!python3 -m pip install stegano"
   ]
  },
  {
   "cell_type": "code",
   "execution_count": null,
   "metadata": {},
   "outputs": [],
   "source": [
    "from stegano import lsb\n",
    "secret=lsb.hide(\"./Steganography_Tutorial_Point_Logo.png\", \"Hello There\")\n",
    "secret.save(\"./Steganography_Tutorial_Point_Logo_encrypt.png\")\n",
    "ecret.save(\"./Steganography_Tutorial_Point_Logo_encrypt.png\")"
   ]
  },
  {
   "cell_type": "markdown",
   "metadata": {},
   "source": [
    "#### Decrypt"
   ]
  },
  {
   "cell_type": "code",
   "execution_count": null,
   "metadata": {},
   "outputs": [],
   "source": [
    "print(lsb.reveal(\"./Steganography_Tutorial_Point_Logo_encrypt.png\"))"
   ]
  },
  {
   "cell_type": "markdown",
   "metadata": {},
   "source": [
    "## Image stenography with Secret Key"
   ]
  },
  {
   "cell_type": "markdown",
   "metadata": {},
   "source": [
    "Here we will be hiding our secret text in the message together with an encryption key required to decode it, therefore only the one with the secret key is able to decode it.\n",
    "\n",
    "Pros:\n",
    "It’s much secure since only those with a secret key can decrypt it\n",
    "\n",
    "Cons:\n",
    "Once the encryption key is lost, it complicates the decryption process"
   ]
  },
  {
   "cell_type": "markdown",
   "metadata": {},
   "source": [
    "#### Encrypting text into image"
   ]
  },
  {
   "cell_type": "code",
   "execution_count": null,
   "metadata": {},
   "outputs": [],
   "source": [
    "from steganocryptopy.steganography import Steganography\n",
    "Steganography.generate_key(\"key\")\n",
    "encrypted = Steganography.encrypt(\"key\",\"sample.png\",  \"classified.us\")\n",
    "encrypted.save(\"Secret.png\")"
   ]
  },
  {
   "cell_type": "markdown",
   "metadata": {},
   "source": [
    "#### The decryption of the Message\n",
    "To decrypt the image, you will need a file containing a key and your encrypted image"
   ]
  },
  {
   "cell_type": "code",
   "execution_count": null,
   "metadata": {},
   "outputs": [],
   "source": [
    "from steganocryptopy.steganography import Steganography\n",
    "Steganography.decrypt(\"key\", \"Secret_img.png\")"
   ]
  },
  {
   "cell_type": "markdown",
   "metadata": {},
   "source": [
    "# ASCII Encryption"
   ]
  },
  {
   "cell_type": "markdown",
   "metadata": {},
   "source": [
    "If you're new to ascii encryption, this simple involving converting the alphabetics to their ascii numerical value and using a secret number to add or substract from their real value and then turning back into characters as encrypted one.\n",
    "https://github.com/Kalebu/ascii-encryption-python"
   ]
  },
  {
   "cell_type": "code",
   "execution_count": 3,
   "metadata": {},
   "outputs": [
    {
     "ename": "ModuleNotFoundError",
     "evalue": "No module named 'algorithms'",
     "output_type": "error",
     "traceback": [
      "\u001b[1;31m---------------------------------------------------------------------------\u001b[0m",
      "\u001b[1;31mModuleNotFoundError\u001b[0m                       Traceback (most recent call last)",
      "\u001b[1;32m<ipython-input-3-ed5f0584a52b>\u001b[0m in \u001b[0;36m<module>\u001b[1;34m\u001b[0m\n\u001b[1;32m----> 1\u001b[1;33m \u001b[1;32mfrom\u001b[0m \u001b[0malgorithms\u001b[0m \u001b[1;32mimport\u001b[0m \u001b[0mencrypt\u001b[0m \u001b[1;33m,\u001b[0m \u001b[0mdecrypt\u001b[0m\u001b[1;33m\u001b[0m\u001b[1;33m\u001b[0m\u001b[0m\n\u001b[0m\u001b[0;32m      2\u001b[0m \u001b[0marmy_text\u001b[0m \u001b[1;33m=\u001b[0m \u001b[1;34m\"Throw the missiles at 9pm\"\u001b[0m\u001b[1;33m\u001b[0m\u001b[1;33m\u001b[0m\u001b[0m\n\u001b[0;32m      3\u001b[0m \u001b[0mencrypt\u001b[0m\u001b[1;33m(\u001b[0m\u001b[0marmy_text\u001b[0m\u001b[1;33m,\u001b[0m \u001b[0mkey\u001b[0m\u001b[1;33m=\u001b[0m\u001b[1;36m10\u001b[0m\u001b[1;33m)\u001b[0m\u001b[1;33m\u001b[0m\u001b[1;33m\u001b[0m\u001b[0m\n\u001b[0;32m      4\u001b[0m \u001b[1;31m# '^r|y\\x81*~ro*ws}}svo}*k~*Czw'\u001b[0m\u001b[1;33m\u001b[0m\u001b[1;33m\u001b[0m\u001b[1;33m\u001b[0m\u001b[0m\n\u001b[0;32m      5\u001b[0m \u001b[0mdecrypt\u001b[0m\u001b[1;33m(\u001b[0m\u001b[1;34m'^r|y\\x81*~ro*ws}}svo}*k~*Czw'\u001b[0m\u001b[1;33m,\u001b[0m \u001b[0mkey\u001b[0m\u001b[1;33m=\u001b[0m\u001b[1;36m10\u001b[0m\u001b[1;33m)\u001b[0m\u001b[1;33m\u001b[0m\u001b[1;33m\u001b[0m\u001b[0m\n",
      "\u001b[1;31mModuleNotFoundError\u001b[0m: No module named 'algorithms'"
     ]
    }
   ],
   "source": [
    "from algorithms import encrypt , decrypt\n",
    "army_text = \"Throw the missiles at 9pm\"\n",
    "encrypt(army_text, key=10)\n",
    "# '^r|y\\x81*~ro*ws}}svo}*k~*Czw'\n",
    "decrypt('^r|y\\x81*~ro*ws}}svo}*k~*Czw', key=10)\n",
    "# 'Throw the missiles at 9pm'\n"
   ]
  },
  {
   "cell_type": "markdown",
   "metadata": {},
   "source": [
    "### Using stepic package"
   ]
  },
  {
   "cell_type": "code",
   "execution_count": 4,
   "metadata": {},
   "outputs": [],
   "source": [
    "from PIL import Image"
   ]
  },
  {
   "cell_type": "code",
   "execution_count": 5,
   "metadata": {},
   "outputs": [
    {
     "ename": "ModuleNotFoundError",
     "evalue": "No module named 'stepic'",
     "output_type": "error",
     "traceback": [
      "\u001b[1;31m---------------------------------------------------------------------------\u001b[0m",
      "\u001b[1;31mModuleNotFoundError\u001b[0m                       Traceback (most recent call last)",
      "\u001b[1;32m<ipython-input-5-ffb1027127e0>\u001b[0m in \u001b[0;36m<module>\u001b[1;34m\u001b[0m\n\u001b[1;32m----> 1\u001b[1;33m \u001b[1;32mimport\u001b[0m \u001b[0mstepic\u001b[0m\u001b[1;33m\u001b[0m\u001b[1;33m\u001b[0m\u001b[0m\n\u001b[0m",
      "\u001b[1;31mModuleNotFoundError\u001b[0m: No module named 'stepic'"
     ]
    }
   ],
   "source": [
    "import stepic"
   ]
  },
  {
   "cell_type": "code",
   "execution_count": null,
   "metadata": {},
   "outputs": [],
   "source": [
    ">>> from PIL import Image\n",
    ">>> import stepic\n",
    ">>> img = Image.open(\"./Steganography_Tutorial_Point_Logo.png\")\n",
    ">>> img.show()\n",
    ">>> img1 = stepic.encode(im, b\"./Steganography_Tutorial_Point_Logo_encrypt_stepic.png\")\n",
    "Traceback (most recent call last):\n",
    "  File \"<stdin>\", line 1, in <module>\n",
    "NameError: name 'im' is not defined\n",
    ">>> img1 = stepic.encode(img, b\"Hello There\")\n",
    ">>> img1.save(\"./Steganography_Tutorial_Point_Logo_encrypt_stepic.png\", 'PNG')\n",
    ">>> im2 = Image.open(\"./Steganography_Tutorial_Point_Logo_encrypt_stepic.png\")\n",
    ">>> message_hidden = stepic.decode(im2)\n",
    ">>> print(message_hidden)\n",
    "Hello There"
   ]
  }
 ],
 "metadata": {
  "kernelspec": {
   "display_name": "Python 3",
   "language": "python",
   "name": "python3"
  },
  "language_info": {
   "codemirror_mode": {
    "name": "ipython",
    "version": 3
   },
   "file_extension": ".py",
   "mimetype": "text/x-python",
   "name": "python",
   "nbconvert_exporter": "python",
   "pygments_lexer": "ipython3",
   "version": "3.8.5"
  }
 },
 "nbformat": 4,
 "nbformat_minor": 4
}
