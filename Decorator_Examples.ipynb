{
 "cells": [
  {
   "cell_type": "code",
   "execution_count": 1,
   "id": "91b02bce-78ef-4736-a1d8-4eb6122eb333",
   "metadata": {},
   "outputs": [],
   "source": [
    "import time"
   ]
  },
  {
   "cell_type": "markdown",
   "id": "dd6a9da9-bc08-4255-a8e2-1cadfb81f03d",
   "metadata": {
    "jp-MarkdownHeadingCollapsed": true,
    "tags": []
   },
   "source": [
    "#### Decorator to capture Run Time"
   ]
  },
  {
   "cell_type": "code",
   "execution_count": 3,
   "id": "870ea608-9f08-46cd-aaa5-2e02b88bdb97",
   "metadata": {},
   "outputs": [],
   "source": [
    "def runtime_decorator(func):\n",
    "    def wrapper(*args, **kwargs):\n",
    "        start = time.time()\n",
    "        ret = func(*args)\n",
    "        end = time.time()\n",
    "        print(f\"the Function {func.__name__} took {end - start} seconds to run\")\n",
    "        return ret\n",
    "    return wrapper\n",
    "\n"
   ]
  },
  {
   "cell_type": "code",
   "execution_count": 4,
   "id": "8ef6c065-25fb-4962-a8e9-6a7552168fd8",
   "metadata": {},
   "outputs": [],
   "source": [
    "@runtime_decorator\n",
    "def generate_numbers(n):\n",
    "    return [i for i in range(n)]"
   ]
  },
  {
   "cell_type": "code",
   "execution_count": 7,
   "id": "92a1c096-232b-4b60-b1c9-a82898ae183a",
   "metadata": {},
   "outputs": [
    {
     "name": "stdout",
     "output_type": "stream",
     "text": [
      "the Function generate_numbers took 0.9471566677093506 seconds to run\n"
     ]
    },
    {
     "data": {
      "text/plain": [
       "10000000"
      ]
     },
     "execution_count": 7,
     "metadata": {},
     "output_type": "execute_result"
    }
   ],
   "source": [
    "l = generate_numbers(10_000_000)\n",
    "len(l)"
   ]
  },
  {
   "cell_type": "markdown",
   "id": "d0f11cff-7d01-48ba-9af7-b896b6d603ee",
   "metadata": {
    "jp-MarkdownHeadingCollapsed": true,
    "tags": []
   },
   "source": [
    "#### Decorator to Sum even numbers"
   ]
  },
  {
   "cell_type": "code",
   "execution_count": 14,
   "id": "9fd39379-09d1-430b-b232-d2711a1a1606",
   "metadata": {},
   "outputs": [],
   "source": [
    "def add_up(func):\n",
    "    def wrapper(*args):\n",
    "        return sum(func(*args))\n",
    "    \n",
    "    return wrapper"
   ]
  },
  {
   "cell_type": "code",
   "execution_count": 15,
   "id": "7e8d209e-e664-424b-9ab6-8af4aca0841c",
   "metadata": {},
   "outputs": [],
   "source": [
    "@add_up\n",
    "def evens(n):\n",
    "    return [2 * i for i in range(n)]"
   ]
  },
  {
   "cell_type": "code",
   "execution_count": 22,
   "id": "ff622b7a-f794-4c90-975e-f06b468d5dbe",
   "metadata": {},
   "outputs": [
    {
     "data": {
      "text/plain": [
       "20"
      ]
     },
     "execution_count": 22,
     "metadata": {},
     "output_type": "execute_result"
    }
   ],
   "source": [
    "evens(5)"
   ]
  },
  {
   "cell_type": "markdown",
   "id": "c05b7e9e-d3ee-4dab-be2e-187b8ac42b28",
   "metadata": {
    "jp-MarkdownHeadingCollapsed": true,
    "tags": []
   },
   "source": [
    "#### Generic Decorator"
   ]
  },
  {
   "cell_type": "code",
   "execution_count": 6,
   "id": "34215426-39cd-43ee-ac54-cd3a4369d652",
   "metadata": {},
   "outputs": [],
   "source": [
    "from functools import wraps\n",
    "\n",
    "def decorator_factory(*d_args, **d_kwargs):\n",
    "    print(d_args)\n",
    "    def decorator(func):        \n",
    "        @wraps(func)\n",
    "        def wrapper(*args, **kwargs):\n",
    "            # Do something before\n",
    "            value = func(*args, **kwargs)\n",
    "            # Do something after; potentially modify value\n",
    "            return value\n",
    "\n",
    "        return wrapper\n",
    "    return decorator\n",
    "\n"
   ]
  },
  {
   "cell_type": "code",
   "execution_count": 7,
   "id": "712241a4-8161-4ae7-8cc3-68b5b630c1fa",
   "metadata": {},
   "outputs": [
    {
     "name": "stdout",
     "output_type": "stream",
     "text": [
      "(1, 2)\n"
     ]
    }
   ],
   "source": [
    "@decorator_factory(1, 2)\n",
    "def func(*args, **kwargs):\n",
    "    pass"
   ]
  },
  {
   "cell_type": "markdown",
   "id": "7c113ad1-21da-4e2f-a05a-0d45fb6e9636",
   "metadata": {
    "jp-MarkdownHeadingCollapsed": true,
    "tags": []
   },
   "source": [
    "#### Generic Decorator for all class methods"
   ]
  },
  {
   "cell_type": "code",
   "execution_count": 15,
   "id": "34133c7a-e643-4806-b6a5-055b9968afea",
   "metadata": {},
   "outputs": [],
   "source": [
    "def runtime_decorator(original_function):      \n",
    "    print(\"decorating\")\n",
    "    def new_function(*args,**kwargs):\n",
    "        print(\"starting timer\")\n",
    "        import datetime                 \n",
    "        before = datetime.datetime.now()                     \n",
    "        x = original_function(*args,**kwargs)                \n",
    "        after = datetime.datetime.now()                      \n",
    "        print(\"Elapsed Time = {0}\".format(after-before))\n",
    "        return x                                             \n",
    "    return new_function\n",
    "\n",
    "def time_all_class_methods(Cls):\n",
    "    class NewCls(object):\n",
    "        def __init__(self,*args,**kwargs):\n",
    "            self.oInstance = Cls(*args,**kwargs)\n",
    "        def __getattribute__(self,s):\n",
    "            \"\"\"\n",
    "            this is called whenever any attribute of a NewCls object is accessed. This function first tries to \n",
    "            get the attribute off NewCls. If it fails then it tries to fetch the attribute from self.oInstance (an\n",
    "            instance of the decorated class). If it manages to fetch the attribute from self.oInstance, and \n",
    "            the attribute is an instance method then `time_this` is applied.\n",
    "            \"\"\"\n",
    "            try:    \n",
    "                x = super(NewCls,self).__getattribute__(s)\n",
    "            except AttributeError:      \n",
    "                pass\n",
    "            else:\n",
    "                return x\n",
    "            x = self.oInstance.__getattribute__(s)\n",
    "            if type(x) == type(self.__init__): # it is an instance method\n",
    "                return runtime_decorator(x)    # this is equivalent of just decorating the method with runtime_decorator\n",
    "            else:\n",
    "                return x\n",
    "    return NewCls"
   ]
  },
  {
   "cell_type": "code",
   "execution_count": 16,
   "id": "d7335db7-024c-4788-b3c8-df347bffb789",
   "metadata": {},
   "outputs": [
    {
     "name": "stdout",
     "output_type": "stream",
     "text": [
      "decorating\n",
      "starting timer\n",
      "entering a\n",
      "exiting a\n",
      "Elapsed Time = 0:00:03.015947\n"
     ]
    }
   ],
   "source": [
    "@time_all_class_methods\n",
    "class Foo(object):\n",
    "    def a(self):\n",
    "        print(\"entering a\")\n",
    "        import time\n",
    "        time.sleep(3)\n",
    "        print(\"exiting a\")\n",
    "\n",
    "oF = Foo()\n",
    "oF.a()"
   ]
  },
  {
   "cell_type": "markdown",
   "id": "b23d1866-0325-42d3-9127-bc3cdc7e585a",
   "metadata": {},
   "source": [
    "#### https://www.codementor.io/@sheena/advanced-use-python-decorators-class-function-du107nxsv\n",
    "#### https://pythonguide.readthedocs.io/en/latest/python/decorator.html"
   ]
  },
  {
   "cell_type": "code",
   "execution_count": null,
   "id": "c9113789-abdf-426a-8b10-9bc7e593e1c3",
   "metadata": {},
   "outputs": [],
   "source": []
  }
 ],
 "metadata": {
  "kernelspec": {
   "display_name": "Python 3 (ipykernel)",
   "language": "python",
   "name": "python3"
  },
  "language_info": {
   "codemirror_mode": {
    "name": "ipython",
    "version": 3
   },
   "file_extension": ".py",
   "mimetype": "text/x-python",
   "name": "python",
   "nbconvert_exporter": "python",
   "pygments_lexer": "ipython3",
   "version": "3.8.5"
  }
 },
 "nbformat": 4,
 "nbformat_minor": 5
}
