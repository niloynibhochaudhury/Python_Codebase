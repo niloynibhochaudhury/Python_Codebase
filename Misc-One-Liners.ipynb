{
 "cells": [
  {
   "cell_type": "markdown",
   "id": "866a3cf5",
   "metadata": {},
   "source": [
    "### Get quotient and remainder"
   ]
  },
  {
   "cell_type": "code",
   "execution_count": 5,
   "id": "da850304",
   "metadata": {},
   "outputs": [
    {
     "data": {
      "text/plain": [
       "(5, 1)"
      ]
     },
     "execution_count": 5,
     "metadata": {},
     "output_type": "execute_result"
    }
   ],
   "source": [
    "quotient, remainder = divmod(26,5)\n",
    "quotient, remainder"
   ]
  },
  {
   "cell_type": "markdown",
   "id": "7c882f7d",
   "metadata": {},
   "source": [
    "### Sort dictionary with keys"
   ]
  },
  {
   "cell_type": "code",
   "execution_count": 6,
   "id": "f1c990e7",
   "metadata": {},
   "outputs": [
    {
     "data": {
      "text/plain": [
       "{'eight': 8, 'four': 4, 'one': 1}"
      ]
     },
     "execution_count": 6,
     "metadata": {},
     "output_type": "execute_result"
    }
   ],
   "source": [
    "d = {'one': 1, 'four': 4, 'eight': 8}\n",
    "dr = {key:d[key] for key in sorted(d.keys())}\n",
    "dr"
   ]
  },
  {
   "cell_type": "markdown",
   "id": "069fa570",
   "metadata": {},
   "source": [
    "### Sort dictionary with values"
   ]
  },
  {
   "cell_type": "code",
   "execution_count": 10,
   "id": "5a74815f",
   "metadata": {},
   "outputs": [
    {
     "data": {
      "text/plain": [
       "{0: 0, 2: 1, 1: 2, 4: 3, 3: 4, 41: 4}"
      ]
     },
     "execution_count": 10,
     "metadata": {},
     "output_type": "execute_result"
    }
   ],
   "source": [
    "x = {1: 2, 3: 4, 4: 3, 2: 1, 0: 0, 41: 4}\n",
    "dx = {k: v for k, v in sorted(x.items(), key=lambda item: item[1])}\n",
    "dx"
   ]
  },
  {
   "cell_type": "markdown",
   "id": "61c74ba4",
   "metadata": {},
   "source": [
    "### Rotate a list"
   ]
  },
  {
   "cell_type": "code",
   "execution_count": 11,
   "id": "e04d1f84",
   "metadata": {},
   "outputs": [
    {
     "data": {
      "text/plain": [
       "[3, 4, 5, 1, 2]"
      ]
     },
     "execution_count": 11,
     "metadata": {},
     "output_type": "execute_result"
    }
   ],
   "source": [
    "li = [1,2,3,4,5]\n",
    "# right to left\n",
    "# li[n:] + li[:n] # n is the no of rotations\n",
    "li[2:] + li[:2]"
   ]
  },
  {
   "cell_type": "code",
   "execution_count": 13,
   "id": "e07bc20f",
   "metadata": {},
   "outputs": [
    {
     "data": {
      "text/plain": [
       "[5, 1, 2, 3, 4]"
      ]
     },
     "execution_count": 13,
     "metadata": {},
     "output_type": "execute_result"
    }
   ],
   "source": [
    "li = [1,2,3,4,5]\n",
    "# left to right\n",
    "# li[-n:] + li[:-n]\n",
    "li[-1:] + li[:-1] "
   ]
  },
  {
   "cell_type": "markdown",
   "id": "42e591dc",
   "metadata": {},
   "source": [
    "### Remove nos from a string"
   ]
  },
  {
   "cell_type": "code",
   "execution_count": 14,
   "id": "a9ba0c7f",
   "metadata": {},
   "outputs": [
    {
     "data": {
      "text/plain": [
       "'abcdeffgvcg'"
      ]
     },
     "execution_count": 14,
     "metadata": {},
     "output_type": "execute_result"
    }
   ],
   "source": [
    "''.join(list(filter(lambda x: x.isalpha(), 'abc123def4fg56vcg2')))"
   ]
  },
  {
   "cell_type": "markdown",
   "id": "ece782b1",
   "metadata": {},
   "source": [
    "### Transpose matrix"
   ]
  },
  {
   "cell_type": "code",
   "execution_count": 17,
   "id": "60da183a",
   "metadata": {},
   "outputs": [
    {
     "data": {
      "text/plain": [
       "[[1, 3, 5], [2, 4, 6], [3, 6, 7]]"
      ]
     },
     "execution_count": 17,
     "metadata": {},
     "output_type": "execute_result"
    }
   ],
   "source": [
    "old_list = [[1, 2, 3], [3, 4, 6], [5, 6, 7]]\n",
    "list(list(x) for x in zip(*old_list))\n",
    "# [[1, 3, 5], [2, 4, 6], [3, 6, 7]]"
   ]
  },
  {
   "cell_type": "markdown",
   "id": "0432825f",
   "metadata": {},
   "source": [
    "### Most frequent element"
   ]
  },
  {
   "cell_type": "code",
   "execution_count": 21,
   "id": "361aafeb",
   "metadata": {},
   "outputs": [
    {
     "data": {
      "text/plain": [
       "4"
      ]
     },
     "execution_count": 21,
     "metadata": {},
     "output_type": "execute_result"
    }
   ],
   "source": [
    "test_list = [9, 4, 5, 4, 4, 5, 9, 5, 4, 5]\n",
    "most_frequent_element = max(set(test_list), key=test_list.count)\n",
    "most_frequent_element"
   ]
  },
  {
   "cell_type": "markdown",
   "id": "8d787c64",
   "metadata": {},
   "source": [
    "### Longest string from a list"
   ]
  },
  {
   "cell_type": "code",
   "execution_count": 24,
   "id": "9363d07e",
   "metadata": {},
   "outputs": [
    {
     "data": {
      "text/plain": [
       "'words'"
      ]
     },
     "execution_count": 24,
     "metadata": {},
     "output_type": "execute_result"
    }
   ],
   "source": [
    "words = ['This', 'is', 'a', 'list', 'of', 'words', 'ifels']\n",
    "w = max(words, key=len)\n",
    "w"
   ]
  },
  {
   "cell_type": "markdown",
   "id": "6e51d1fb",
   "metadata": {},
   "source": [
    "### Anagram"
   ]
  },
  {
   "cell_type": "code",
   "execution_count": 26,
   "id": "8d8420eb",
   "metadata": {},
   "outputs": [
    {
     "name": "stdout",
     "output_type": "stream",
     "text": [
      "not an anagram\n"
     ]
    }
   ],
   "source": [
    "from collections import Counter\n",
    "\n",
    "s1 = 'below'\n",
    "s2 = 'elbow1'\n",
    "\n",
    "print('anagram') if Counter(s1) == Counter(s2) else print('not an anagram')"
   ]
  },
  {
   "cell_type": "code",
   "execution_count": null,
   "id": "a3912554",
   "metadata": {},
   "outputs": [],
   "source": []
  }
 ],
 "metadata": {
  "kernelspec": {
   "display_name": "Python 3 (ipykernel)",
   "language": "python",
   "name": "python3"
  },
  "language_info": {
   "codemirror_mode": {
    "name": "ipython",
    "version": 3
   },
   "file_extension": ".py",
   "mimetype": "text/x-python",
   "name": "python",
   "nbconvert_exporter": "python",
   "pygments_lexer": "ipython3",
   "version": "3.8.5"
  }
 },
 "nbformat": 4,
 "nbformat_minor": 5
}
