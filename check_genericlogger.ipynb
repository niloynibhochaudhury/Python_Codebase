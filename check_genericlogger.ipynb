{
 "cells": [
  {
   "cell_type": "code",
   "execution_count": 1,
   "id": "595e8552-289e-41de-84c8-aa7ead01e6d7",
   "metadata": {},
   "outputs": [],
   "source": [
    "from loggerfactory import LoggerFactory"
   ]
  },
  {
   "cell_type": "code",
   "execution_count": 2,
   "id": "a0bd6aa6-5ec2-431b-93e1-5fedbb0992a6",
   "metadata": {},
   "outputs": [],
   "source": [
    "log = LoggerFactory.get_logger(\"check_genericlogger.ipynb\", log_level=\"INFO\")"
   ]
  },
  {
   "cell_type": "code",
   "execution_count": 7,
   "id": "18fa9298-ce15-4f0f-902e-80589219226c",
   "metadata": {},
   "outputs": [
    {
     "name": "stdout",
     "output_type": "stream",
     "text": [
      "INFO 2022-01-02 00:18:51,312 | This is a smaple\n"
     ]
    }
   ],
   "source": [
    "log.info(\"This is a smaple\")"
   ]
  },
  {
   "cell_type": "code",
   "execution_count": 8,
   "id": "47ae3633-7e00-4ccc-b256-be04de09d546",
   "metadata": {},
   "outputs": [
    {
     "name": "stdout",
     "output_type": "stream",
     "text": [
      "WARNING 2022-01-02 00:19:55,105 | This is another sample\n"
     ]
    }
   ],
   "source": [
    "log.warning(\"This is another sample\")"
   ]
  },
  {
   "cell_type": "code",
   "execution_count": 10,
   "id": "ccaedce8-e9e1-46ae-bf31-b5d7a9af73e7",
   "metadata": {},
   "outputs": [],
   "source": [
    "log.debug(\"This is a sample\")"
   ]
  },
  {
   "cell_type": "code",
   "execution_count": 11,
   "id": "8b23d1a6-91d1-4e1d-b927-87e8c9c5e956",
   "metadata": {},
   "outputs": [
    {
     "name": "stdout",
     "output_type": "stream",
     "text": [
      "ERROR 2022-01-02 00:23:03,437 | A sample ERROR\n"
     ]
    }
   ],
   "source": [
    "log.error(\"A sample ERROR\")"
   ]
  },
  {
   "cell_type": "code",
   "execution_count": null,
   "id": "4268bbed-a1fa-43a8-bc83-1123d0df6931",
   "metadata": {},
   "outputs": [],
   "source": []
  }
 ],
 "metadata": {
  "kernelspec": {
   "display_name": "Python 3 (ipykernel)",
   "language": "python",
   "name": "python3"
  },
  "language_info": {
   "codemirror_mode": {
    "name": "ipython",
    "version": 3
   },
   "file_extension": ".py",
   "mimetype": "text/x-python",
   "name": "python",
   "nbconvert_exporter": "python",
   "pygments_lexer": "ipython3",
   "version": "3.8.5"
  }
 },
 "nbformat": 4,
 "nbformat_minor": 5
}
