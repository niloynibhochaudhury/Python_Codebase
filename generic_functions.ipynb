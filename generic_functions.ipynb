{
 "cells": [
  {
   "cell_type": "code",
   "execution_count": 5,
   "id": "7efb52c1-648c-4e97-970b-4023d72e7fe4",
   "metadata": {},
   "outputs": [],
   "source": [
    "# !pip install ipynb"
   ]
  },
  {
   "cell_type": "code",
   "execution_count": 8,
   "id": "0f0acfe8-9eaf-4ad3-b9b2-b21d7817c924",
   "metadata": {},
   "outputs": [],
   "source": [
    "# !pip install icecream"
   ]
  },
  {
   "cell_type": "code",
   "execution_count": 6,
   "id": "d55a8fc2-cfea-4de7-a88a-7d1d9cd0bfae",
   "metadata": {},
   "outputs": [],
   "source": [
    "def factorial(n):\n",
    "    if n == 0:\n",
    "        return 1\n",
    "    else:\n",
    "        return n * factorial(n-1)"
   ]
  },
  {
   "cell_type": "code",
   "execution_count": null,
   "id": "bcc0071a-8b18-4fb0-ab67-f90c65a75d90",
   "metadata": {},
   "outputs": [],
   "source": []
  }
 ],
 "metadata": {
  "kernelspec": {
   "display_name": "Python 3 (ipykernel)",
   "language": "python",
   "name": "python3"
  },
  "language_info": {
   "codemirror_mode": {
    "name": "ipython",
    "version": 3
   },
   "file_extension": ".py",
   "mimetype": "text/x-python",
   "name": "python",
   "nbconvert_exporter": "python",
   "pygments_lexer": "ipython3",
   "version": "3.8.5"
  }
 },
 "nbformat": 4,
 "nbformat_minor": 5
}
